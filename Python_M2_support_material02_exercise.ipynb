{
  "nbformat": 4,
  "nbformat_minor": 0,
  "metadata": {
    "colab": {
      "provenance": [],
      "toc_visible": true,
      "include_colab_link": true
    },
    "kernelspec": {
      "name": "python3",
      "display_name": "Python 3"
    }
  },
  "cells": [
    {
      "cell_type": "markdown",
      "metadata": {
        "id": "view-in-github",
        "colab_type": "text"
      },
      "source": [
        "<a href=\"https://colab.research.google.com/github/Alexanray/python_googlecolab2/blob/main/Python_M2_support_material02_exercise.ipynb\" target=\"_parent\"><img src=\"https://colab.research.google.com/assets/colab-badge.svg\" alt=\"Open In Colab\"/></a>"
      ]
    },
    {
      "cell_type": "markdown",
      "metadata": {
        "id": "KJqp9AANOCtf"
      },
      "source": [
        "<img src=\"https://raw.githubusercontent.com/andre-marcos-perez/ebac-course-utils/main/media/logo/newebac_logo_black_half.png\" alt=\"ebac-logo\">\n",
        "\n",
        "---\n",
        "\n",
        "# **Módulo** | Python: Estruturas de Dados\n",
        "Caderno de **Exercícios**<br>\n",
        "Professor [André Perez](https://www.linkedin.com/in/andremarcosperez/)\n",
        "\n",
        "---"
      ]
    },
    {
      "cell_type": "markdown",
      "metadata": {
        "id": "d9jDtUbDOE1-"
      },
      "source": [
        "# **Tópicos**\n",
        "\n",
        "<ol type=\"1\">\n",
        "  <li>Listas;</li>\n",
        "  <li>Conjuntos;</li>\n",
        "  <li>Dicionários.</li>\n",
        "</ol>"
      ]
    },
    {
      "cell_type": "markdown",
      "metadata": {
        "id": "SmoHgt-lwkpD"
      },
      "source": [
        "---"
      ]
    },
    {
      "cell_type": "markdown",
      "metadata": {
        "id": "GABI6OW8OfQ2"
      },
      "source": [
        "# **Exercícios**"
      ]
    },
    {
      "cell_type": "markdown",
      "metadata": {
        "id": "muD1vxozykSC"
      },
      "source": [
        "## 1\\. Listas"
      ]
    },
    {
      "cell_type": "markdown",
      "metadata": {
        "id": "ahrFfCuBxJKs"
      },
      "source": [
        "Criei uma lista chamada `filmes` com o nome dos 10 primeiros filmes mais bem avaliados no site no [IMDB](https://www.imdb.com/chart/top/). Imprima o resultado."
      ]
    },
    {
      "cell_type": "code",
      "metadata": {
        "id": "OgL6Hv3bzOHI"
      },
      "source": [
        "filmes = ['Sonho de Liberdade', 'O Poderoso Chefão', 'O Poderoso Chefão II', 'Batman: O Cavaleiro das Trevas', '12 Homens e Uma Sentença', 'A Lista de Schindler', 'O Senhor dos Anéis: O Retorno do Rei', 'Pulp Fiction', 'O Bom, o Mau e o Feio', 'Clube da Luta']"
      ],
      "execution_count": 14,
      "outputs": []
    },
    {
      "cell_type": "code",
      "source": [
        "print(\"Lista original:\", filmes)"
      ],
      "metadata": {
        "colab": {
          "base_uri": "https://localhost:8080/"
        },
        "id": "6daXqggfc60w",
        "outputId": "8f102f1c-5cf1-45f0-d119-921dfc7a1937"
      },
      "execution_count": 15,
      "outputs": [
        {
          "output_type": "stream",
          "name": "stdout",
          "text": [
            "Lista original: ['Sonho de Liberdade', 'O Poderoso Chefão', 'O Poderoso Chefão II', 'Batman: O Cavaleiro das Trevas', '12 Homens e Uma Sentença', 'A Lista de Schindler', 'O Senhor dos Anéis: O Retorno do Rei', 'Pulp Fiction', 'O Bom, o Mau e o Feio', 'Clube da Luta']\n"
          ]
        }
      ]
    },
    {
      "cell_type": "markdown",
      "metadata": {
        "id": "KI9zQRT2xa7m"
      },
      "source": [
        "Simule a movimentação do *ranking*. Utilize os métodos `insert` e `pop` para trocar a posição do primeiro e do segundo filme da lista. Imprima o resultado.\n",
        "\n"
      ]
    },
    {
      "cell_type": "code",
      "source": [
        "segundo_filme = filmes.pop(1)   # Remove o segundo filme e guarda em uma variável temporária\n",
        "filmes.insert(0, segundo_filme) # Insere o segundo filme na primeira posição\n",
        "\n",
        "# Imprima a lista após a troca\n",
        "print(\"Lista após a troca:\", filmes)"
      ],
      "metadata": {
        "colab": {
          "base_uri": "https://localhost:8080/"
        },
        "id": "jHNqSii_dnRG",
        "outputId": "d4d36cce-56af-4c0d-ea1f-ebf5ebf59d5c"
      },
      "execution_count": 7,
      "outputs": [
        {
          "output_type": "stream",
          "name": "stdout",
          "text": [
            "Lista após a troca: ['O Poderoso Chefão', 'Sonho de Liberdade', 'O Poderoso Chefão II', 'Batman: O Cavaleiro das Trevas', '12 Homens e Uma Sentença', 'A Lista de Schindler', 'O Senhor dos Anéis: O Retorno do Rei', 'Pulp Fiction', 'O Bom, o Mau e o Feio', 'Clube da Luta']\n"
          ]
        }
      ]
    },
    {
      "cell_type": "markdown",
      "metadata": {
        "id": "lxa5L6uF0ZJE"
      },
      "source": [
        "## 2\\. Conjuntos"
      ]
    },
    {
      "cell_type": "markdown",
      "metadata": {
        "id": "9JahS2Kj0d5u"
      },
      "source": [
        "Aconteceu um erro no seu *ranking*. Simule a duplicação dos três últimos filmes da lista. Imprima o resultado."
      ]
    },
    {
      "cell_type": "code",
      "source": [
        "filmes = ['Um Sonho de Liberdade', 'O Poderoso Chefão', 'O Poderoso Chefão II',\n",
        "          'Batman: O Cavaleiro das Trevas', '12 Homens e Uma Sentença',\n",
        "          'A Lista de Schindler', 'O Senhor dos Anéis: O Retorno do Rei',\n",
        "          'Pulp Fiction', 'O Bom, o Mau e o Feio', 'Clube da Luta',\n",
        "          'Pulp Fiction', 'O Bom, o Mau e o Feio', 'Clube da Luta']"
      ],
      "metadata": {
        "id": "9KvMUnAuqkjs"
      },
      "execution_count": 34,
      "outputs": []
    },
    {
      "cell_type": "code",
      "source": [
        "filmes_sem_duplicatas = []\n",
        "for filme in filmes:\n",
        "    if filme not in filmes_sem_duplicatas:\n",
        "        filmes_sem_duplicatas.append(filme)\n",
        "\n",
        "print(\"Lista após remover duplicatas:\", filmes_sem_duplicatas)"
      ],
      "metadata": {
        "colab": {
          "base_uri": "https://localhost:8080/"
        },
        "id": "e3nz0JpUrLTt",
        "outputId": "522a74c6-16f0-430d-ac70-4a32a613b9c7"
      },
      "execution_count": 35,
      "outputs": [
        {
          "output_type": "stream",
          "name": "stdout",
          "text": [
            "Lista após remover duplicatas: ['Um Sonho de Liberdade', 'O Poderoso Chefão', 'O Poderoso Chefão II', 'Batman: O Cavaleiro das Trevas', '12 Homens e Uma Sentença', 'A Lista de Schindler', 'O Senhor dos Anéis: O Retorno do Rei', 'Pulp Fiction', 'O Bom, o Mau e o Feio', 'Clube da Luta']\n"
          ]
        }
      ]
    },
    {
      "cell_type": "markdown",
      "metadata": {
        "id": "suxTfCJB6ZiX"
      },
      "source": [
        "Utiliza a conversão `set` e `list` para remover os valores duplicados. Imprima o resultado."
      ]
    },
    {
      "cell_type": "code",
      "source": [
        "filmes = ['Um sonho de liberdade', 'O Poderoso Chefão', 'O Poderoso Chefão II',\n",
        "          'Batman: O Cavaleiro das Trevas', '12 Homens e Uma Sentença',\n",
        "          'A Lista de Schindler', 'O Senhor dos Anéis: O Retorno do Rei',\n",
        "          'Pulp Fiction', 'O Bom, o Mau e o Feio', 'Clube da Luta',\n",
        "          'Pulp Fiction', 'O Bom, o Mau e o Feio', 'Clube da Luta']"
      ],
      "metadata": {
        "id": "ge5b3mVIompP"
      },
      "execution_count": 44,
      "outputs": []
    },
    {
      "cell_type": "code",
      "source": [
        "filmes_sem_duplicatas = list(set(filmes))\n",
        "\n",
        "# Ordenar a lista para manter uma ordem consistente após a conversão\n",
        "filmes_sem_duplicatas.sort()\n",
        "\n",
        "print(\"Lista após remover duplicatas usando set e list:\", filmes_sem_duplicatas)"
      ],
      "metadata": {
        "colab": {
          "base_uri": "https://localhost:8080/"
        },
        "id": "YeemYWFmrlo5",
        "outputId": "6fa402c8-5fb1-4cdb-8ded-3238b6ec7cc3"
      },
      "execution_count": 45,
      "outputs": [
        {
          "output_type": "stream",
          "name": "stdout",
          "text": [
            "Lista após remover duplicatas usando set e list: ['12 Homens e Uma Sentença', 'A Lista de Schindler', 'Batman: O Cavaleiro das Trevas', 'Clube da Luta', 'O Bom, o Mau e o Feio', 'O Poderoso Chefão', 'O Poderoso Chefão II', 'O Senhor dos Anéis: O Retorno do Rei', 'Pulp Fiction', 'Um sonho de liberdade']\n"
          ]
        }
      ]
    },
    {
      "cell_type": "markdown",
      "metadata": {
        "id": "ShkK35eQ6pAM"
      },
      "source": [
        "---"
      ]
    },
    {
      "cell_type": "markdown",
      "metadata": {
        "id": "EL_FzmxL6rTv"
      },
      "source": [
        "## 3\\. Dicionários"
      ]
    },
    {
      "cell_type": "markdown",
      "metadata": {
        "id": "i8l0gFqRCpfT"
      },
      "source": [
        "Repita os exercícios da parte 1 (listas). Os elementos da lista `filmes` devem ser dicionários no seguinte formato: `{'nome': <nome-do-filme>, 'ano': <ano do filme>}, 'sinopse': <sinopse do filme>}`."
      ]
    },
    {
      "cell_type": "code",
      "metadata": {
        "id": "tu6MSFwGDnHv",
        "colab": {
          "base_uri": "https://localhost:8080/"
        },
        "outputId": "1806cb4f-82c2-4664-e081-124a9914d3bc"
      },
      "source": [
        "#adicionei apenas alguns elementos para o dicionário:\n",
        "\n",
        "filmes = [\n",
        "    {'nome': 'Um Sonho de Liberdade', 'ano': 1994, 'sinopse': 'Dois homens condenados formam uma ligação ao longo dos anos, encontrando consolo e eventual redenção através de atos de decência comum.'},\n",
        "    {'nome': 'O Poderoso Chefão', 'ano': 1972, 'sinopse': 'O envelhecimento patriarca de uma dinastia do crime organizado transfere o controle de seu império clandestino para seu filho relutante.'},\n",
        "    {'nome': 'O Poderoso Chefão II', 'ano': 1974, 'sinopse': 'A saga da família Corleone continua.'}\n",
        "]\n",
        "\n",
        "print(\"Lista original de filmes:\", [filme['nome'] for filme in filmes])"
      ],
      "execution_count": 46,
      "outputs": [
        {
          "output_type": "stream",
          "name": "stdout",
          "text": [
            "Lista original de filmes: ['Um Sonho de Liberdade', 'O Poderoso Chefão', 'O Poderoso Chefão II']\n"
          ]
        }
      ]
    }
  ]
}